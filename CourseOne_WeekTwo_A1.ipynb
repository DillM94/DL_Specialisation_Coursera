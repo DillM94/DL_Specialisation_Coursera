{
 "cells": [
  {
   "cell_type": "code",
   "execution_count": 140,
   "id": "e439920c",
   "metadata": {},
   "outputs": [],
   "source": [
    "import numpy as np"
   ]
  },
  {
   "cell_type": "code",
   "execution_count": 89,
   "id": "97def86e",
   "metadata": {},
   "outputs": [],
   "source": [
    "## Sigmoid Function\n",
    "def sigmoid(x):\n",
    "    s = 1/(1 + np.exp(-x))\n",
    "    \n",
    "    return s\n",
    "\n",
    "## Sigmoid Derivative\n",
    "def sigmoid_derivative(x):\n",
    "    \n",
    "    s = sigmoid(x)\n",
    "    ds = s*(1-s)\n",
    "    \n",
    "    return ds"
   ]
  },
  {
   "cell_type": "code",
   "execution_count": 94,
   "id": "4ca9b668",
   "metadata": {},
   "outputs": [],
   "source": [
    "## Image Reshaper\n",
    "def imvec(image):\n",
    "    v = image.reshape(image.shape[0]*image.shape[1]*image.shape[2], 1)\n",
    "    \n",
    "    return v"
   ]
  },
  {
   "cell_type": "code",
   "execution_count": 132,
   "id": "56c8a834",
   "metadata": {},
   "outputs": [],
   "source": [
    "## Normaliser\n",
    "def normaliser(x):\n",
    "    abs_x = np.linalg.norm(x, axis = 1, keepdims = True)\n",
    "    x = x/abs_x\n",
    "    \n",
    "    return x"
   ]
  },
  {
   "cell_type": "code",
   "execution_count": 133,
   "id": "f2856ba4",
   "metadata": {},
   "outputs": [],
   "source": [
    "## SoftMax\n",
    "def softmax(x):\n",
    "    top = np.exp(x)\n",
    "    bottom = np.sum(np.exp(x), axis = 1, keepdims = True)\n",
    "    sm = top/bottom\n",
    "    \n",
    "    return sm"
   ]
  },
  {
   "cell_type": "code",
   "execution_count": 138,
   "id": "e4e8b919",
   "metadata": {},
   "outputs": [],
   "source": [
    "## Loss\n",
    "def L1(y_hat, y):\n",
    "    loss = np.sum(np.abs(y-y_hat))\n",
    "    \n",
    "    return loss\n",
    "\n",
    "def L2(y_hat, y):\n",
    "    loss = np.sum((y-y_hat)**2)\n",
    "    \n",
    "    return loss"
   ]
  }
 ],
 "metadata": {
  "kernelspec": {
   "display_name": "Python 3",
   "language": "python",
   "name": "python3"
  },
  "language_info": {
   "codemirror_mode": {
    "name": "ipython",
    "version": 3
   },
   "file_extension": ".py",
   "mimetype": "text/x-python",
   "name": "python",
   "nbconvert_exporter": "python",
   "pygments_lexer": "ipython3",
   "version": "3.8.8"
  }
 },
 "nbformat": 4,
 "nbformat_minor": 5
}
