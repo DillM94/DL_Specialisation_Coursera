{
 "cells": [
  {
   "cell_type": "code",
   "execution_count": 20,
   "id": "e8c61151",
   "metadata": {},
   "outputs": [],
   "source": [
    "import numpy as np"
   ]
  },
  {
   "cell_type": "code",
   "execution_count": 68,
   "id": "ba463666",
   "metadata": {},
   "outputs": [],
   "source": [
    "## Sigmoid Function\n",
    "def sigmoid(x):\n",
    "    s = 1/(1 + np.exp(-x))\n",
    "    \n",
    "    return s"
   ]
  },
  {
   "cell_type": "code",
   "execution_count": 69,
   "id": "33427ec7",
   "metadata": {},
   "outputs": [],
   "source": [
    "## Initialise Parameters\n",
    "def initialise(dimension):\n",
    "    w = np.zeros(shape = (dimension,1))\n",
    "    b = 0\n",
    "    \n",
    "    return w, b"
   ]
  },
  {
   "cell_type": "code",
   "execution_count": 70,
   "id": "3f188094",
   "metadata": {},
   "outputs": [],
   "source": [
    "## Propagation\n",
    "def prop(w, b, X, y):\n",
    "    \n",
    "    m = X.shape[1]\n",
    "    \n",
    "    # Forward Pass\n",
    "    Z = np.dot(w.T,X) + b\n",
    "    A = sigmoid(Z)\n",
    "    loss = (-1/m)*np.sum(y*np.log(A) + (1-y)*np.log(1-A)) \n",
    "    \n",
    "    # Backward Pass\n",
    "    dw = (1/m)*np.dot(X, (A-y).T)\n",
    "    db = (1/m)*np.dot(A-y)\n",
    "    \n",
    "    cost = np.squeeze(cost)\n",
    "    \n",
    "    grads = {\n",
    "        'dw': dw,\n",
    "        'db': db\n",
    "    }\n",
    "    \n",
    "    return cost, grads"
   ]
  },
  {
   "cell_type": "code",
   "execution_count": 77,
   "id": "02080db7",
   "metadata": {},
   "outputs": [],
   "source": [
    "## Optimisation\n",
    "def optimise(w, b, X, y, iterations, learning_rate, print_cost = False):\n",
    "    \n",
    "    costs = []\n",
    "    \n",
    "    for i in range(iterations):\n",
    "        cost, gradients = prop(w, b, X, y)\n",
    "        \n",
    "        dw = gradients['dw']\n",
    "        db = gradients['db']\n",
    "        \n",
    "        w -= learning_rate*dw\n",
    "        b -= learning_rate*db\n",
    "        \n",
    "        # Record the costs\n",
    "        if i % 100 == 0:\n",
    "            costs.append(cost)\n",
    "        \n",
    "        # Print the cost every 100 training iterations\n",
    "        if print_cost and i % 100 == 0:\n",
    "            print (\"Cost after iteration %i: %f\" %(i, cost))\n",
    "            \n",
    "        params = {\n",
    "            'w': w, \n",
    "            'b': b\n",
    "        }\n",
    "        \n",
    "        grads = {\n",
    "            'dw':dw,\n",
    "            'db':db\n",
    "        }\n",
    "        \n",
    "        return params, grads, costs"
   ]
  },
  {
   "cell_type": "code",
   "execution_count": 78,
   "id": "e663c0c0",
   "metadata": {},
   "outputs": [],
   "source": [
    "## Predictions\n",
    "\n",
    "def predict(w, b, X):\n",
    "    \n",
    "    m = X.shape[1]\n",
    "    Y_prediction = np.zeros((1,m))\n",
    "    w = w.reshape(X.shape[0], 1)\n",
    "    \n",
    "    A = sigmoid(np.dot(w.T, X)+b)\n",
    "    \n",
    "    for i in range(A.shape[1]):\n",
    "        \n",
    "        if A[0,i]<=0.5:\n",
    "            Y_prediction[0,i] = 0\n",
    "        else:\n",
    "            Y_prediction[0,i] = 1\n",
    "        pass\n",
    "    \n",
    "    return Y_prediction"
   ]
  },
  {
   "cell_type": "code",
   "execution_count": 81,
   "id": "3bccba37",
   "metadata": {},
   "outputs": [],
   "source": [
    "## Model\n",
    "def model(X_train, Y_train, X_test, Y_test, num_iterations = 2000, learning_rate = 0.5, print_cost = False):\n",
    "    \n",
    "    w, b = initialise(X_train.shape[0])\n",
    "    w = w.reshape(X_train.shape[0], 1)\n",
    "    \n",
    "    parameters, grads, costs = optimise(w, b, X_train, Y_train, num_iterations, learning_rate, print_cost = False)\n",
    "    \n",
    "    w = parameters[\"w\"]\n",
    "    b = parameters[\"b\"]\n",
    "    \n",
    "    Y_prediction_test = predict(w, b, X_test)\n",
    "    Y_prediction_train = predict(w, b, X_train)\n",
    "    \n",
    "    print(\"train accuracy: {} %\".format(100 - np.mean(np.abs(Y_prediction_train - Y_train)) * 100))\n",
    "    print(\"test accuracy: {} %\".format(100 - np.mean(np.abs(Y_prediction_test - Y_test)) * 100))\n",
    "\n",
    "    \n",
    "    model_outputs = {\n",
    "        \"costs\": costs,\n",
    "        \"Y_prediction_test\": Y_prediction_test, \n",
    "        \"Y_prediction_train\" : Y_prediction_train, \n",
    "        \"w\" : w, \n",
    "        \"b\" : b,\n",
    "        \"learning_rate\" : learning_rate,\n",
    "        \"num_iterations\": num_iterations\n",
    "    }\n",
    "    \n",
    "    return model_outputs"
   ]
  }
 ],
 "metadata": {
  "kernelspec": {
   "display_name": "Python 3",
   "language": "python",
   "name": "python3"
  },
  "language_info": {
   "codemirror_mode": {
    "name": "ipython",
    "version": 3
   },
   "file_extension": ".py",
   "mimetype": "text/x-python",
   "name": "python",
   "nbconvert_exporter": "python",
   "pygments_lexer": "ipython3",
   "version": "3.8.8"
  }
 },
 "nbformat": 4,
 "nbformat_minor": 5
}
