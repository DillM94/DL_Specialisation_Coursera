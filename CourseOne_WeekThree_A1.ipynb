{
 "cells": [
  {
   "cell_type": "code",
   "execution_count": 183,
   "id": "4fe88a4b",
   "metadata": {},
   "outputs": [],
   "source": [
    "import numpy as np"
   ]
  },
  {
   "cell_type": "code",
   "execution_count": 212,
   "id": "0b6692b1",
   "metadata": {},
   "outputs": [],
   "source": [
    "x = np.random.random((5,4))*0.001\n",
    "y = np.array([0])"
   ]
  },
  {
   "cell_type": "code",
   "execution_count": 195,
   "id": "3a5afc5c",
   "metadata": {},
   "outputs": [],
   "source": [
    "## Compute layer sizes\n",
    "def layers(x, y):\n",
    "    n_input = x.shape[0]\n",
    "    n_hidden = 4\n",
    "    n_output = y.shape[0]\n",
    "    \n",
    "    return (n_input, n_hidden, n_output)"
   ]
  },
  {
   "cell_type": "code",
   "execution_count": 196,
   "id": "0161df6f",
   "metadata": {},
   "outputs": [
    {
     "name": "stdout",
     "output_type": "stream",
     "text": [
      "The size of the input layer is: n_x = 5\n",
      "The size of the hidden layer is: n_h = 4\n",
      "The size of the output layer is: n_y = 1\n"
     ]
    }
   ],
   "source": [
    "ni, nh, no = layers(x,y)\n",
    "\n",
    "print(\"The size of the input layer is: n_x = \" + str(ni))\n",
    "print(\"The size of the hidden layer is: n_h = \" + str(nh))\n",
    "print(\"The size of the output layer is: n_y = \" + str(no))"
   ]
  },
  {
   "cell_type": "code",
   "execution_count": 197,
   "id": "af6f4080",
   "metadata": {},
   "outputs": [],
   "source": [
    "## Initialise parameters for two \n",
    "def initialise(n_input, n_hidden, n_output):\n",
    "    \n",
    "    w1 = np.random.randn(n_hidden, n_input)*0.01\n",
    "    b1 = np.zeros(shape = (n_hidden,1))\n",
    "    \n",
    "    w2 = np.random.randn(n_output, n_hidden)*0.01\n",
    "    b2 = np.zeros(shape = (n_output, 1))\n",
    "    \n",
    "    params = {\n",
    "        'w1':w1, \n",
    "        'b1':b1,\n",
    "        'w2':w2,\n",
    "        'b2':b2\n",
    "    }\n",
    "    \n",
    "    return params"
   ]
  },
  {
   "cell_type": "code",
   "execution_count": 198,
   "id": "60729b31",
   "metadata": {
    "scrolled": true
   },
   "outputs": [],
   "source": [
    "parameters = initialise(ni, nh, no)"
   ]
  },
  {
   "cell_type": "code",
   "execution_count": 199,
   "id": "fcf0f098",
   "metadata": {},
   "outputs": [],
   "source": [
    "## Sigmoid Function\n",
    "def sigmoid(x):\n",
    "    s = 1/(1 + np.exp(-x))\n",
    "    \n",
    "    return s"
   ]
  },
  {
   "cell_type": "code",
   "execution_count": 200,
   "id": "3ddf95ef",
   "metadata": {},
   "outputs": [],
   "source": [
    "## Forward Propagation\n",
    "def f_prop(x, parameters):\n",
    "    \n",
    "    w1 = parameters['w1']\n",
    "    b1 = parameters['b1']\n",
    "    w2 = parameters['w2']\n",
    "    b2 = parameters['b2']\n",
    "    \n",
    "    z1 = np.dot(w1, x) + b1\n",
    "    a1 = np.tanh(z1)\n",
    "    \n",
    "    z2 = np.dot(w2, a1) + b2\n",
    "    a2 = sigmoid(z2)\n",
    "    \n",
    "    foward = {\n",
    "        'z1':z1,\n",
    "        'a1':a1,\n",
    "        'z2':z2, \n",
    "        'a2':a2\n",
    "    }\n",
    "    \n",
    "    return a2, foward"
   ]
  },
  {
   "cell_type": "code",
   "execution_count": 201,
   "id": "7e82a11c",
   "metadata": {},
   "outputs": [
    {
     "data": {
      "text/plain": [
       "array([[0.50000003, 0.50000008, 0.50000001, 0.5000001 ]])"
      ]
     },
     "execution_count": 201,
     "metadata": {},
     "output_type": "execute_result"
    }
   ],
   "source": [
    "a2, forward = f_prop(x, parameters)\n",
    "a2"
   ]
  },
  {
   "cell_type": "code",
   "execution_count": 202,
   "id": "c4611fbe",
   "metadata": {},
   "outputs": [],
   "source": [
    "## Loss Function\n",
    "def loss(y, a2, parameters):\n",
    "    \n",
    "    m = y.shape[0]\n",
    "    \n",
    "    loss = (-1/m)*np.sum(y*np.log(a2) + (1-y)*np.log(1-a2))\n",
    "    loss = np.squeeze(loss)\n",
    "    \n",
    "    return loss"
   ]
  },
  {
   "cell_type": "code",
   "execution_count": 203,
   "id": "c001aab1",
   "metadata": {
    "scrolled": true
   },
   "outputs": [
    {
     "data": {
      "text/plain": [
       "2.772589160085453"
      ]
     },
     "execution_count": 203,
     "metadata": {},
     "output_type": "execute_result"
    }
   ],
   "source": [
    "loss(y, a2, parameters)"
   ]
  },
  {
   "cell_type": "code",
   "execution_count": 204,
   "id": "077ab168",
   "metadata": {},
   "outputs": [],
   "source": [
    "## Backward Propagation\n",
    "def b_prop(parameters, foward, x, y):\n",
    "    \n",
    "    m = x.shape[1]\n",
    "    \n",
    "    w1 = parameters['w1']\n",
    "    w2 = parameters ['w2']\n",
    "    \n",
    "    a1 = forward['a1']\n",
    "    a2 = forward['a2']\n",
    "    \n",
    "    dz2 = a2 - y\n",
    "    dw2 = np.dot(dz2, a1.T)/m\n",
    "    db2 = np.sum(dz2,axis=1,keepdims=True)/m\n",
    "    dz1 = np.dot(w2.T,dz2)*(1 - np.power(a1, 2))\n",
    "    dw1 = np.dot(dz1,x.T)/m\n",
    "    db1 = np.sum(dz1,axis=1,keepdims=True)/m\n",
    "    \n",
    "    grads = {\n",
    "        'dw1': dw1,\n",
    "        'db1': db1,\n",
    "        'dw2': dw2,\n",
    "        'db2': db2\n",
    "    }\n",
    "    \n",
    "    return grads"
   ]
  },
  {
   "cell_type": "code",
   "execution_count": 205,
   "id": "1ce71f8e",
   "metadata": {},
   "outputs": [],
   "source": [
    "grads = b_prop(parameters, forward, x, y)"
   ]
  },
  {
   "cell_type": "code",
   "execution_count": 206,
   "id": "46df1e7e",
   "metadata": {},
   "outputs": [],
   "source": [
    "## Update parameters\n",
    "def update(parameters, grads, learning_rate = 0.03):\n",
    "    \n",
    "    w1 = parameters['w1']\n",
    "    b1 = parameters['b1']\n",
    "    w2 = parameters['w2']\n",
    "    b2 = parameters['b2']\n",
    "    \n",
    "    dw1 = grads['dw1']\n",
    "    db1 = grads['db1']\n",
    "    dw2 = grads['dw2']\n",
    "    db2 = grads['db2']\n",
    "    \n",
    "    w1 -= learning_rate*dw1\n",
    "    w2 -= learning_rate*dw2\n",
    "    b1 -= learning_rate*db1\n",
    "    b2 -= learning_rate*db2\n",
    "    \n",
    "    parameters = {\n",
    "        'w1': w1,\n",
    "        'b1': b1,\n",
    "        'w2': w2,\n",
    "        'b2': b2\n",
    "    }\n",
    "    \n",
    "    return parameters"
   ]
  },
  {
   "cell_type": "code",
   "execution_count": 207,
   "id": "f432c66b",
   "metadata": {},
   "outputs": [
    {
     "data": {
      "text/plain": [
       "{'w1': array([[ 0.01933168, -0.01070775, -0.00571372,  0.00292443, -0.01194988],\n",
       "        [-0.00487934, -0.00173078, -0.00395349,  0.00870837,  0.00592803],\n",
       "        [-0.01099292, -0.00681519,  0.00180072, -0.00066926, -0.00787744],\n",
       "        [ 0.00424761,  0.00819898, -0.00631113,  0.00789066, -0.01621667]]),\n",
       " 'b1': array([[ 2.41574915e-04],\n",
       "        [-7.49909728e-05],\n",
       "        [ 1.25177295e-04],\n",
       "        [ 1.49543969e-04]]),\n",
       " 'w2': array([[-0.01610488,  0.00499938, -0.00834493, -0.00996964]]),\n",
       " 'b2': array([[-0.015]])}"
      ]
     },
     "execution_count": 207,
     "metadata": {},
     "output_type": "execute_result"
    }
   ],
   "source": [
    "parameters = update(parameters, grads)\n",
    "parameters"
   ]
  },
  {
   "cell_type": "code",
   "execution_count": 208,
   "id": "9677a6a2",
   "metadata": {},
   "outputs": [],
   "source": [
    "## Shallow Neural Network Model\n",
    "def nn_model(x, y, n_hidden, iterations = 100000, print_cost = False):\n",
    "    \n",
    "    m = x.shape[1]\n",
    "    \n",
    "    n_input, n_hidden, n_output = layers(x, y)\n",
    "    \n",
    "    parameters = initialise(n_input, n_hidden, n_output)\n",
    "    \n",
    "    w1 = parameters['w1']\n",
    "    b1 = parameters['b1']\n",
    "    w2 = parameters['w2']\n",
    "    b2 = parameters['b2']\n",
    "    \n",
    "    for i in range(iterations):\n",
    "    \n",
    "        a2, forward = f_prop(x, parameters)\n",
    "        \n",
    "        cost = loss(y, a2, parameters)\n",
    "        \n",
    "        grads = b_prop(parameters, forward, x, y)\n",
    "        \n",
    "        params = update(parameters, grads, learning_rate = 0.12)\n",
    "        \n",
    "        if print_cost and i % 1000 == 0:\n",
    "            print (\"Cost after iteration %i: %f\" %(i, cost))\n",
    "            \n",
    "    return params"
   ]
  },
  {
   "cell_type": "code",
   "execution_count": 213,
   "id": "f67f0ecd",
   "metadata": {},
   "outputs": [
    {
     "name": "stderr",
     "output_type": "stream",
     "text": [
      "<ipython-input-199-1793b8bbed05>:3: RuntimeWarning: overflow encountered in exp\n",
      "  s = 1/(1 + np.exp(-x))\n",
      "<ipython-input-202-991167adff67>:6: RuntimeWarning: divide by zero encountered in log\n",
      "  loss = (-1/m)*np.sum(y*np.log(a2) + (1-y)*np.log(1-a2))\n",
      "<ipython-input-202-991167adff67>:6: RuntimeWarning: invalid value encountered in multiply\n",
      "  loss = (-1/m)*np.sum(y*np.log(a2) + (1-y)*np.log(1-a2))\n"
     ]
    }
   ],
   "source": [
    "params = nn_model(x, y, 4)"
   ]
  },
  {
   "cell_type": "code",
   "execution_count": 214,
   "id": "49bb7630",
   "metadata": {},
   "outputs": [],
   "source": [
    "## Predictions\n",
    "def predict(x, params):\n",
    "    \n",
    "    a2, forward = f_prop(x, params)\n",
    "    predicitons = (a2 > 0.5)\n",
    "    \n",
    "    return predicitons"
   ]
  }
 ],
 "metadata": {
  "kernelspec": {
   "display_name": "Python 3",
   "language": "python",
   "name": "python3"
  },
  "language_info": {
   "codemirror_mode": {
    "name": "ipython",
    "version": 3
   },
   "file_extension": ".py",
   "mimetype": "text/x-python",
   "name": "python",
   "nbconvert_exporter": "python",
   "pygments_lexer": "ipython3",
   "version": "3.8.8"
  }
 },
 "nbformat": 4,
 "nbformat_minor": 5
}
